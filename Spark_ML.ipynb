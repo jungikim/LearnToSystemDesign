{
 "cells": [
  {
   "cell_type": "markdown",
   "id": "f138ce32-fb5b-4f6b-b773-6f2c914cf89a",
   "metadata": {},
   "source": [
    "## Spark ML\n",
    "- [https://spark.apache.org/docs/latest/ml-guide.html] - DataFrame-based (user-friendlier API)\n",
    "- [https://spark.apache.org/docs/latest/mllib-guide.html] - maintenance mode; RDD-based\n",
    "\n",
    "```\n",
    "ML Algorithms: common learning algorithms such as classification, regression, clustering, and collaborative filtering\n",
    "Featurization: feature extraction, transformation, dimensionality reduction, and selection\n",
    "Pipelines: tools for constructing, evaluating, and tuning ML Pipelines\n",
    "Persistence: saving and load algorithms, models, and Pipelines\n",
    "Utilities: linear algebra, statistics, data handling, etc.\n",
    "```\n",
    "\n",
    "\n",
    "## Spark SQL [https://spark.apache.org/docs/latest/sql-programming-guide.html]\n",
    "## Pandas API on Spark [https://spark.apache.org/docs/latest/api/python/getting_started/quickstart_ps.html]\n",
    "## GraphX [https://spark.apache.org/docs/latest/graphx-programming-guide.html] \n",
    "## Structured Streaming [https://spark.apache.org/docs/latest/structured-streaming-programming-guide.html]\n",
    "\n",
    "\n",
    "pip install pyspark plotly"
   ]
  },
  {
   "cell_type": "markdown",
   "id": "afc273f0-9d4b-4e18-b32b-a04d36300bca",
   "metadata": {},
   "source": [
    "## Spark data types and built-in functions\n",
    "\n",
    "pyspark.pandas.frame.DataFrame\n",
    "\n",
    "### Pandas -> Pandas-on-Spark datatypes\n",
    "pyspark.pandas.from_pandas()\n",
    "\n",
    "### Spark DataFrame -> Pandas-on-Spark Data frame\n",
    "(data frame object).pandas_api()\n",
    "\n",
    "### parquet (efficient, compact file format)\n",
    "\n",
    "(data object).to_parquet('')\n",
    "pyspark.pandas.read_parquet('')\n",
    "\n",
    "### Spark IO (Spark has various datasources including ORC and external datasources)\n",
    "\n",
    ".to_spark_io(\"filename.orc\", format=\"orc\")\n",
    "pyspark.pandas.read_spark_io(\"filename.orc\", format=\"orc\")\n",
    "\n",
    "### other data sources\n",
    "Metastore table, Delta Lake, Parquet, ORC, Generic Spark IO, file, CSV, clipboard, Excel, json, HTML, sql\n",
    "\n",
    "\n",
    "### built-in functions\n",
    "spark.createDataFrame()\n",
    ".head() # first 5 rows\n",
    ".index\n",
    ".columns\n",
    ".to_numpy()\n",
    ".describe()\n",
    ".T\n",
    "\n",
    ".sort_index(ascending={True,False})\n",
    ".sort_values(by='column name')\n",
    "\n",
    ".inreindex(index= .., columns= ... )\n",
    "\n",
    ".loc[row condition, column condition] = value to assign\n",
    "\n",
    "\n",
    ".dropna(axis=, how={'any','all'}, thresh=(int num NA), subset=column label(s), inplace={False, True}, ingnore_index={False, True})\n",
    "\n",
    ".fillna(value={scalar,dict,Series,DataFrame}, method={None,'backfill','bfill','ffill'}, axis=None, inplace=False, limit=None, downcast=_NoDefault.no_default)\n",
    "\n",
    ".mean()\n",
    ".cummax()\n",
    "\n",
    ".groupby(column name(s)) + aggregate func\n",
    "\n",
    "\n",
    ".plot()\n"
   ]
  },
  {
   "cell_type": "code",
   "execution_count": 17,
   "id": "c28abadf-a635-4755-a7d5-96be8701482a",
   "metadata": {},
   "outputs": [
    {
     "name": "stderr",
     "output_type": "stream",
     "text": [
      "24/04/01 14:02:06 WARN SparkSession: Using an existing Spark session; only runtime SQL configurations will take effect.\n"
     ]
    },
    {
     "name": "stdout",
     "output_type": "stream",
     "text": [
      "Lines with a: 58, lines with b: 18\n"
     ]
    }
   ],
   "source": [
    "# testing pyspark session\n",
    "\n",
    "from pyspark.sql import SparkSession\n",
    "\n",
    "logFile = \"README.md\"  # Should be some file on your system\n",
    "spark = SparkSession.builder.appName(\"SimpleApp\").getOrCreate()\n",
    "logData = spark.read.text(logFile).cache()\n",
    "\n",
    "numAs = logData.filter(logData.value.contains('a')).count()\n",
    "numBs = logData.filter(logData.value.contains('b')).count()\n",
    "\n",
    "print(\"Lines with a: %i, lines with b: %i\" % (numAs, numBs))\n",
    "\n",
    "spark.stop()\n",
    "\n"
   ]
  },
  {
   "cell_type": "code",
   "execution_count": 18,
   "id": "4d8fbbbd-5053-4e93-8d4a-958fb6f5081b",
   "metadata": {},
   "outputs": [
    {
     "name": "stdout",
     "output_type": "stream",
     "text": [
      "0    1.0\n",
      "1    3.0\n",
      "2    5.0\n",
      "3    NaN\n",
      "4    6.0\n",
      "5    8.0\n",
      "dtype: float64\n",
      "    a    b      c\n",
      "10  1  100    one\n",
      "20  2  200    two\n",
      "30  3  300  three\n",
      "40  4  400   four\n",
      "50  5  500   five\n",
      "60  6  600    six\n"
     ]
    }
   ],
   "source": [
    "import pandas as pd\n",
    "import numpy as np\n",
    "import pyspark.pandas as ps\n",
    "\n",
    "# Pandas-on-Spark Series\n",
    "s = ps.Series([1, 3, 5, np.nan, 6, 8])\n",
    "\n",
    "# Pandas-on-Spark DataFrame\n",
    "psdf = ps.DataFrame(\n",
    "    {'a': [1, 2, 3, 4, 5, 6],\n",
    "     'b': [100, 200, 300, 400, 500, 600],\n",
    "     'c': [\"one\", \"two\", \"three\", \"four\", \"five\", \"six\"]},\n",
    "    index=[10, 20, 30, 40, 50, 60])\n",
    "\n",
    "print(s)\n",
    "print(psdf)\n",
    "\n",
    "# ps.from_pandas()\n"
   ]
  },
  {
   "cell_type": "code",
   "execution_count": null,
   "id": "367e7d84-ee6a-4783-a206-1c92759d95d3",
   "metadata": {},
   "outputs": [],
   "source": []
  }
 ],
 "metadata": {
  "kernelspec": {
   "display_name": "Python 3 (ipykernel)",
   "language": "python",
   "name": "python3"
  },
  "language_info": {
   "codemirror_mode": {
    "name": "ipython",
    "version": 3
   },
   "file_extension": ".py",
   "mimetype": "text/x-python",
   "name": "python",
   "nbconvert_exporter": "python",
   "pygments_lexer": "ipython3",
   "version": "3.10.13"
  }
 },
 "nbformat": 4,
 "nbformat_minor": 5
}
